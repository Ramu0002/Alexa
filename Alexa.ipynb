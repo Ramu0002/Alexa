{
 "cells": [
  {
   "cell_type": "code",
   "execution_count": 1,
   "id": "5f14674a",
   "metadata": {},
   "outputs": [],
   "source": [
    "import speech_recognition as sr\n",
    "import pyttsx3\n",
    "import wikipedia\n",
    "import pywhatkit\n",
    "import pyjokes\n",
    "import datetime"
   ]
  },
  {
   "cell_type": "code",
   "execution_count": 2,
   "id": "378ea0a2",
   "metadata": {},
   "outputs": [],
   "source": [
    "listener = sr.Recognizer()\n",
    "engine = pyttsx3.init()\n",
    "voices = engine.getProperty('voices')\n",
    "engine.setProperty('voices', voices[1].id)"
   ]
  },
  {
   "cell_type": "code",
   "execution_count": 3,
   "id": "2beaa66d",
   "metadata": {},
   "outputs": [],
   "source": [
    "def talk(text):\n",
    "\n",
    "    engine.say(text)\n",
    "    engine.runAndWait()"
   ]
  },
  {
   "cell_type": "code",
   "execution_count": 4,
   "id": "26fdcbbb",
   "metadata": {},
   "outputs": [],
   "source": [
    "def take_command():\n",
    "    try:\n",
    "        with sr.Microphone() as source:\n",
    "            print('listening...')\n",
    "            voice = listener.listen(source)\n",
    "            command = listener.recognize_google(voice)\n",
    "            command = command.lower()\n",
    "            if 'alexa' in command :\n",
    "                talk(\"Hi,\")\n",
    "                command = command.replace('alexa','')\n",
    "                print(command)\n",
    "    except:\n",
    "        pass\n",
    "    return command"
   ]
  },
  {
   "cell_type": "code",
   "execution_count": 5,
   "id": "9cb06af5",
   "metadata": {},
   "outputs": [
    {
     "name": "stdout",
     "output_type": "stream",
     "text": [
      "listening...\n",
      "hi \n",
      "hi \n",
      "listening...\n",
      "tell me a joke\n",
      "How many programmers does it take to change a lightbulb? None, that's a hardware problem.\n",
      "listening...\n"
     ]
    },
    {
     "ename": "UnboundLocalError",
     "evalue": "local variable 'command' referenced before assignment",
     "output_type": "error",
     "traceback": [
      "\u001b[1;31m---------------------------------------------------------------------------\u001b[0m",
      "\u001b[1;31mUnboundLocalError\u001b[0m                         Traceback (most recent call last)",
      "\u001b[1;32m<ipython-input-5-8726f9ec25e3>\u001b[0m in \u001b[0;36m<module>\u001b[1;34m\u001b[0m\n\u001b[0;32m     23\u001b[0m \u001b[1;33m\u001b[0m\u001b[0m\n\u001b[0;32m     24\u001b[0m \u001b[1;32mwhile\u001b[0m \u001b[1;32mTrue\u001b[0m\u001b[1;33m:\u001b[0m\u001b[1;33m\u001b[0m\u001b[1;33m\u001b[0m\u001b[0m\n\u001b[1;32m---> 25\u001b[1;33m     \u001b[0mrun_alexa\u001b[0m\u001b[1;33m(\u001b[0m\u001b[1;33m)\u001b[0m\u001b[1;33m\u001b[0m\u001b[1;33m\u001b[0m\u001b[0m\n\u001b[0m",
      "\u001b[1;32m<ipython-input-5-8726f9ec25e3>\u001b[0m in \u001b[0;36mrun_alexa\u001b[1;34m()\u001b[0m\n\u001b[0;32m      1\u001b[0m \u001b[1;32mdef\u001b[0m \u001b[0mrun_alexa\u001b[0m\u001b[1;33m(\u001b[0m\u001b[1;33m)\u001b[0m\u001b[1;33m:\u001b[0m\u001b[1;33m\u001b[0m\u001b[1;33m\u001b[0m\u001b[0m\n\u001b[0;32m      2\u001b[0m \u001b[1;33m\u001b[0m\u001b[0m\n\u001b[1;32m----> 3\u001b[1;33m     \u001b[0mcommand\u001b[0m \u001b[1;33m=\u001b[0m \u001b[0mtake_command\u001b[0m\u001b[1;33m(\u001b[0m\u001b[1;33m)\u001b[0m\u001b[1;33m\u001b[0m\u001b[1;33m\u001b[0m\u001b[0m\n\u001b[0m\u001b[0;32m      4\u001b[0m     \u001b[0mprint\u001b[0m\u001b[1;33m(\u001b[0m\u001b[0mcommand\u001b[0m\u001b[1;33m)\u001b[0m\u001b[1;33m\u001b[0m\u001b[1;33m\u001b[0m\u001b[0m\n\u001b[0;32m      5\u001b[0m     \u001b[1;32mif\u001b[0m \u001b[1;34m'play'\u001b[0m \u001b[1;32min\u001b[0m \u001b[0mcommand\u001b[0m\u001b[1;33m:\u001b[0m\u001b[1;33m\u001b[0m\u001b[1;33m\u001b[0m\u001b[0m\n",
      "\u001b[1;32m<ipython-input-4-8b50160f976e>\u001b[0m in \u001b[0;36mtake_command\u001b[1;34m()\u001b[0m\n\u001b[0;32m     12\u001b[0m     \u001b[1;32mexcept\u001b[0m\u001b[1;33m:\u001b[0m\u001b[1;33m\u001b[0m\u001b[1;33m\u001b[0m\u001b[0m\n\u001b[0;32m     13\u001b[0m         \u001b[1;32mpass\u001b[0m\u001b[1;33m\u001b[0m\u001b[1;33m\u001b[0m\u001b[0m\n\u001b[1;32m---> 14\u001b[1;33m     \u001b[1;32mreturn\u001b[0m \u001b[0mcommand\u001b[0m\u001b[1;33m\u001b[0m\u001b[1;33m\u001b[0m\u001b[0m\n\u001b[0m",
      "\u001b[1;31mUnboundLocalError\u001b[0m: local variable 'command' referenced before assignment"
     ]
    }
   ],
   "source": [
    "def run_alexa():\n",
    "  \n",
    "    command = take_command()\n",
    "    print(command)\n",
    "    if 'play' in command:\n",
    "        song = command.replace('play','')\n",
    "        talk('playing' + song)\n",
    "        pywhatkit.playonyt(song)\n",
    "    elif 'tell me the time' in command:\n",
    "        time = datetime.datetime.now().strftime('%H :%M')\n",
    "        talk('current time is' + time)\n",
    "        print('current time is' + time)\n",
    "    elif 'who is' in command :\n",
    "        person =command.replace('who is ','')\n",
    "        info = wikipedia.summary(person,1)\n",
    "        print(info)\n",
    "        talk(info)\n",
    "    elif 'joke' in command :\n",
    "        talk(pyjokes.get_joke())\n",
    "        print(pyjokes.get_joke())\n",
    "    else :\n",
    "        talk('please say that again')\n",
    "        \n",
    "while True:\n",
    "    run_alexa()"
   ]
  },
  {
   "cell_type": "code",
   "execution_count": null,
   "id": "44227b75",
   "metadata": {},
   "outputs": [],
   "source": []
  },
  {
   "cell_type": "code",
   "execution_count": null,
   "id": "4b45142c",
   "metadata": {},
   "outputs": [],
   "source": []
  }
 ],
 "metadata": {
  "kernelspec": {
   "display_name": "Python 3",
   "language": "python",
   "name": "python3"
  },
  "language_info": {
   "codemirror_mode": {
    "name": "ipython",
    "version": 3
   },
   "file_extension": ".py",
   "mimetype": "text/x-python",
   "name": "python",
   "nbconvert_exporter": "python",
   "pygments_lexer": "ipython3",
   "version": "3.8.8"
  }
 },
 "nbformat": 4,
 "nbformat_minor": 5
}
